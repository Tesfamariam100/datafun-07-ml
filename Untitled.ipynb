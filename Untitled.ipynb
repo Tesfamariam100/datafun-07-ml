{
 "cells": [
  {
   "cell_type": "markdown",
   "id": "fd3d6d6f-4999-4ae7-88f6-2fd28468aef0",
   "metadata": {},
   "source": [
    "# datafun-07-ml"
   ]
  },
  {
   "cell_type": "markdown",
   "id": "b235e18c-59cc-46ca-a05a-269bb61180e1",
   "metadata": {},
   "source": [
    "Project Name: DataFun-07-ml\n",
    "Project Author: Tesfamariam\n",
    "Date: 2024-02-18"
   ]
  },
  {
   "cell_type": "markdown",
   "id": "6655a860-c019-4749-b290-a60ed0cc49f5",
   "metadata": {},
   "source": [
    "## Project Objective:\n",
    "Investigate how country population size in 2020 correlates with COVID-19 deaths reported in 2019 through data analysis and visualization.\n",
    "Machine learning for predictive analytics"
   ]
  },
  {
   "cell_type": "markdown",
   "id": "44401fa0-29d6-442b-8f82-9bba0bb3ad04",
   "metadata": {},
   "source": [
    "## Getting Started\n",
    "### Create Repository:\n",
    "In your browser, create a new GitHub repository (datafun-07-ml) with the default README.md. "
   ]
  },
  {
   "cell_type": "markdown",
   "id": "d14be7e5-2e53-40ef-a2ec-f33d2e5f0a6e",
   "metadata": {},
   "source": [
    "### Clone Repository: \n",
    "Clone the newly created repository to your local machine Documents folder using Git clone command or via VS Code.\n",
    "Git clone C:\\Users\\Tesfamariam\\datafun-O7-ml"
   ]
  },
  {
   "cell_type": "markdown",
   "id": "ab4f8d57-e191-48ef-85f7-92c4b0476fca",
   "metadata": {},
   "source": [
    "### Create Virtual Environment:\n",
    "Set up a project virtual environment named .venv in the root project folder. In the VS Code terminal:\n",
    "\n",
    "python3 -m venv .venv\n",
    "Activate Virtual Environment: Activate the project virtual environment. In the VS Code terminal:\n",
    "\n",
    "On Windows:\n",
    "bash\n",
    "Copy code\n",
    ".venv\\Scripts\\activate"
   ]
  },
  {
   "cell_type": "markdown",
   "id": "4d0ece1f-6f1d-4d96-a8b6-eb5555e26641",
   "metadata": {},
   "source": [
    "### Manage Project Requirements:\n",
    "Install dependencies listed in the project specification.\n",
    "bash\n",
    "Copy code\n",
    "pip install <dependency1> <dependency2> ...\n",
    "Freeze your requirements to requirements.txt:\n",
    "bash\n",
    "Copy code\n",
    "pip freeze > requirements.txt"
   ]
  },
  {
   "cell_type": "markdown",
   "id": "9cd768a7-6656-4f5a-ba59-d997f97248a4",
   "metadata": {},
   "source": [
    "### Add .gitignore: \n",
    "Add a useful .gitignore file to the root project folder to exclude files and directories not to be tracked by Git.\n",
    "\n",
    "### Document Process in README.md: \n",
    "Document the project purpose, virtual environment setup, and commands used for version control and running the code.\n",
    "\n",
    "### Version Control\n",
    "Git Add and Commit:\n",
    "\n",
    "git add .\n",
    "git commit -m \"Initial commit: Setup project structure and dependencies\"\n",
    "Git Push to GitHub:\n",
    "\n",
    "\n",
    "git push origin main\n",
    "Running the Code\n",
    "Document instructions for running your code\n",
    "\n",
    "### Conclusion\n",
    "TO BE CONTINUED...\n",
    "\n",
    "\n",
    "\n",
    "\n",
    "\n"
   ]
  }
 ],
 "metadata": {
  "kernelspec": {
   "display_name": "Python 3 (ipykernel)",
   "language": "python",
   "name": "python3"
  },
  "language_info": {
   "codemirror_mode": {
    "name": "ipython",
    "version": 3
   },
   "file_extension": ".py",
   "mimetype": "text/x-python",
   "name": "python",
   "nbconvert_exporter": "python",
   "pygments_lexer": "ipython3",
   "version": "3.12.1"
  }
 },
 "nbformat": 4,
 "nbformat_minor": 5
}
